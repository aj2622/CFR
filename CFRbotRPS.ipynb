{
  "nbformat": 4,
  "nbformat_minor": 0,
  "metadata": {
    "colab": {
      "name": "CFRbotRPS.ipynb",
      "version": "0.3.2",
      "provenance": [],
      "collapsed_sections": []
    },
    "kernelspec": {
      "name": "python3",
      "display_name": "Python 3"
    }
  },
  "cells": [
    {
      "cell_type": "markdown",
      "metadata": {
        "id": "PPo5Pr64LQni",
        "colab_type": "text"
      },
      "source": [
        "A simple rock paper scissors bot that learn the best strategy in relation to the opponents strategy"
      ]
    },
    {
      "cell_type": "code",
      "metadata": {
        "id": "dKxkD_rDi_ls",
        "colab_type": "code",
        "colab": {}
      },
      "source": [
        "rock, paper, scissors, num_actions = 0, 1, 2, 3 "
      ],
      "execution_count": 0,
      "outputs": []
    },
    {
      "cell_type": "markdown",
      "metadata": {
        "id": "4AmiZ96zLisl",
        "colab_type": "text"
      },
      "source": [
        "Importing Libraries"
      ]
    },
    {
      "cell_type": "code",
      "metadata": {
        "id": "YO8HaZC_jMbV",
        "colab_type": "code",
        "colab": {}
      },
      "source": [
        "import random\n",
        "import numpy as np\n",
        "regretSum = np.zeros(num_actions)\n",
        "#strategy = np.zeros(num_actions)\n",
        "strategySum = np.zeros(num_actions)\n",
        "oppStrategy = np.array([0.4,0.3,0.3])\n",
        "np.set_printoptions(suppress=True)"
      ],
      "execution_count": 0,
      "outputs": []
    },
    {
      "cell_type": "markdown",
      "metadata": {
        "id": "baVca_e5LmUg",
        "colab_type": "text"
      },
      "source": [
        "Core Functions"
      ]
    },
    {
      "cell_type": "code",
      "metadata": {
        "id": "0IhTqtqsnJhm",
        "colab_type": "code",
        "colab": {}
      },
      "source": [
        "def getStrategy():\n",
        "  normalizingSum = 0\n",
        "  global regretSum, strategySum, num_actions\n",
        "  strategy = np.maximum(regretSum,0)\n",
        "  normalizingSum = np.sum(strategy)\n",
        "  if normalizingSum > 0:\n",
        "    strategy /= normalizingSum\n",
        "  else:\n",
        "    strategy = [1 / num_actions for i in range(num_actions)]\n",
        "  strategySum += strategy\n",
        "  return strategy"
      ],
      "execution_count": 0,
      "outputs": []
    },
    {
      "cell_type": "code",
      "metadata": {
        "id": "jwJc26Q3jOej",
        "colab_type": "code",
        "colab": {}
      },
      "source": [
        "def getAction(strategy):\n",
        "  r = random.random()\n",
        "  a = 0\n",
        "  cumulativeProbability = 0\n",
        "  while a < num_actions - 1:\n",
        "    cumulativeProbability += strategy[a]\n",
        "    if r < cumulativeProbability:\n",
        "      break\n",
        "    a += 1\n",
        "  return a"
      ],
      "execution_count": 0,
      "outputs": []
    },
    {
      "cell_type": "code",
      "metadata": {
        "id": "MsvgWYqQMcPV",
        "colab_type": "code",
        "colab": {}
      },
      "source": [
        "def getUtility(otherAction):\n",
        "  if otherAction == 0:\n",
        "    actionUtility = np.array([0,1,-1])\n",
        "  elif otherAction == 1:\n",
        "    actionUtility = np.array([-1,0,1])\n",
        "  elif otherAction == 2:\n",
        "    actionUtility = np.array([1,-1,0])\n",
        "  return actionUtility"
      ],
      "execution_count": 0,
      "outputs": []
    },
    {
      "cell_type": "code",
      "metadata": {
        "id": "8iKD0OVWHjzT",
        "colab_type": "code",
        "colab": {}
      },
      "source": [
        "def train(iterations):\n",
        "  global num_actions, oppStrategy, regretSum\n",
        "  strategy = np.zeros\n",
        "  actionUtility = np.zeros(num_actions)\n",
        "  for i in range(iterations):\n",
        "    strategy = getStrategy()\n",
        "    myAction = getAction(strategy)\n",
        "    otherAction = getAction(oppStrategy)\n",
        "    actionUtility = getUtility(otherAction)\n",
        "    regretSum += actionUtility - actionUtility[myAction]\n",
        "    \n",
        "def getAverageStrategy():\n",
        "  global strategySum, num_actions\n",
        "  normalizingSum = np.sum(strategySum)\n",
        "  if normalizingSum > 0:\n",
        "    avgStrategy = strategySum / normalizingSum\n",
        "  else:\n",
        "    avgStrategy = [1/num_actions for i in range(num_actions)]\n",
        "  return avgStrategy"
      ],
      "execution_count": 0,
      "outputs": []
    },
    {
      "cell_type": "code",
      "metadata": {
        "id": "ORhHFiQeLgSa",
        "colab_type": "code",
        "colab": {}
      },
      "source": [
        "train(100000)"
      ],
      "execution_count": 0,
      "outputs": []
    },
    {
      "cell_type": "markdown",
      "metadata": {
        "id": "NuEFldCUPEE-",
        "colab_type": "text"
      },
      "source": [
        "Strategy"
      ]
    },
    {
      "cell_type": "code",
      "metadata": {
        "id": "o3Q6L1iPlmL_",
        "colab_type": "code",
        "outputId": "da704896-d592-4c16-99eb-ee391490b47d",
        "colab": {
          "base_uri": "https://localhost:8080/",
          "height": 35
        }
      },
      "source": [
        "getAverageStrategy()"
      ],
      "execution_count": 0,
      "outputs": [
        {
          "output_type": "execute_result",
          "data": {
            "text/plain": [
              "array([0.00171902, 0.99803381, 0.00024717])"
            ]
          },
          "metadata": {
            "tags": []
          },
          "execution_count": 175
        }
      ]
    },
    {
      "cell_type": "code",
      "metadata": {
        "id": "eRVdu8Ubo-CJ",
        "colab_type": "code",
        "colab": {}
      },
      "source": [
        ""
      ],
      "execution_count": 0,
      "outputs": []
    }
  ]
}