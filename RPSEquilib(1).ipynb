{
  "nbformat": 4,
  "nbformat_minor": 0,
  "metadata": {
    "colab": {
      "name": "RPSEquilib.ipynb",
      "version": "0.3.2",
      "provenance": [],
      "collapsed_sections": []
    },
    "kernelspec": {
      "name": "python3",
      "display_name": "Python 3"
    }
  },
  "cells": [
    {
      "cell_type": "code",
      "metadata": {
        "id": "EKwIl2G0vTB1",
        "colab_type": "code",
        "outputId": "46d2fef5-e56c-4d2c-bdad-439b05b18d22",
        "colab": {
          "base_uri": "https://localhost:8080/",
          "height": 90
        }
      },
      "source": [
        "import numpy as np \n",
        "import random as random\n",
        "%pylab inline"
      ],
      "execution_count": 110,
      "outputs": [
        {
          "output_type": "stream",
          "text": [
            "Populating the interactive namespace from numpy and matplotlib\n"
          ],
          "name": "stdout"
        },
        {
          "output_type": "stream",
          "text": [
            "/usr/local/lib/python3.6/dist-packages/IPython/core/magics/pylab.py:161: UserWarning: pylab import has clobbered these variables: ['random']\n",
            "`%matplotlib` prevents importing * from pylab and numpy\n",
            "  \"\\n`%matplotlib` prevents importing * from pylab and numpy\"\n"
          ],
          "name": "stderr"
        }
      ]
    },
    {
      "cell_type": "code",
      "metadata": {
        "id": "RIcOXo_tvmi-",
        "colab_type": "code",
        "colab": {}
      },
      "source": [
        "np.set_printoptions(suppress=True)"
      ],
      "execution_count": 0,
      "outputs": []
    },
    {
      "cell_type": "markdown",
      "metadata": {
        "id": "GKmCNpNgvnXP",
        "colab_type": "text"
      },
      "source": [
        "Making the agent class"
      ]
    },
    {
      "cell_type": "code",
      "metadata": {
        "id": "7_Tv_1L-vq0g",
        "colab_type": "code",
        "colab": {}
      },
      "source": [
        "class AgentRPS:\n",
        "  def __init__(self):\n",
        "    self.num_actions = 3\n",
        "    self.regretSum = np.zeros(self.num_actions)\n",
        "    self.strategySum = np.zeros(self.num_actions)\n",
        "    \n",
        "  def getStrategy(self):\n",
        "    normalizingSum = 0\n",
        "    self.strategy = np.maximum(self.regretSum,0)\n",
        "    normalizingSum = np.sum(self.strategy)\n",
        "    if normalizingSum > 0:\n",
        "      self.strategy /= normalizingSum\n",
        "    else:\n",
        "      self.strategy = [1 / self.num_actions for i in range(self.num_actions)]\n",
        "    self.strategySum += self.strategy\n",
        "    return self.strategy\n",
        "  \n",
        "  def getAction(self):\n",
        "    r = random.random()\n",
        "    self.action = 0\n",
        "    cumulativeProbability = 0\n",
        "    while self.action < self.num_actions - 1:\n",
        "      cumulativeProbability += self.strategy[self.action]\n",
        "      if r < cumulativeProbability:\n",
        "        break\n",
        "      self.action += 1\n",
        "    return self.action\n",
        "  \n",
        "  def getAverageStrategy(self):\n",
        "    normalizingSum = np.sum(self.strategySum)\n",
        "    if normalizingSum > 0:\n",
        "      self.avgStrategy = self.strategySum / normalizingSum\n",
        "    else:\n",
        "      self.avgStrategy = [1/num_actions for i in range(self.num_actions)]\n",
        "    return self.avgStrategy"
      ],
      "execution_count": 0,
      "outputs": []
    },
    {
      "cell_type": "markdown",
      "metadata": {
        "id": "6uW4nAEJEXoV",
        "colab_type": "text"
      },
      "source": [
        "Utility Function and Training Function"
      ]
    },
    {
      "cell_type": "code",
      "metadata": {
        "id": "EKSgOb4S4Pbp",
        "colab_type": "code",
        "colab": {}
      },
      "source": [
        "def getUtility(otherAction):\n",
        "  if otherAction == 0:\n",
        "    actionUtility = np.array([0,1,-1])\n",
        "  elif otherAction == 1:\n",
        "    actionUtility = np.array([-1,0,1])\n",
        "  elif otherAction == 2:\n",
        "    actionUtility = np.array([1,-1,0])\n",
        "  return actionUtility"
      ],
      "execution_count": 0,
      "outputs": []
    },
    {
      "cell_type": "code",
      "metadata": {
        "id": "tHsoGWVc2oxA",
        "colab_type": "code",
        "colab": {}
      },
      "source": [
        "def train(AgentRPS1,AgentRPS2,iterations):\n",
        "  strategy1 = np.zeros((iterations,AgentRPS1.num_actions))\n",
        "  strategy2 = np.zeros((iterations,AgentRPS2.num_actions))\n",
        "  actionUtility1 = np.zeros(AgentRPS1.num_actions)\n",
        "  actionUtility2 = np.zeros(AgentRPS2.num_actions)\n",
        "  for i in range(iterations):\n",
        "    AgentRPS1.getStrategy()\n",
        "    AgentRPS1Action = AgentRPS1.getAction()\n",
        "    AgentRPS2.getStrategy()\n",
        "    AgentRPS2Action = AgentRPS2.getAction()\n",
        "    \n",
        "    actionUtility1 = getUtility(AgentRPS2Action)\n",
        "    actionUtility2 = getUtility(AgentRPS1Action)\n",
        "    AgentRPS1.regretSum += actionUtility2 - actionUtility2[AgentRPS1Action]\n",
        "    AgentRPS2.regretSum += actionUtility1 - actionUtility1[AgentRPS2Action]\n",
        "    strategy1[i,:] = AgentRPS1.getAverageStrategy()\n",
        "    strategy2[i,:] = AgentRPS2.getAverageStrategy()\n",
        "  return strategy1,strategy2"
      ],
      "execution_count": 0,
      "outputs": []
    },
    {
      "cell_type": "markdown",
      "metadata": {
        "id": "dQ76rgZZFF_0",
        "colab_type": "text"
      },
      "source": [
        "Making Agent a and b"
      ]
    },
    {
      "cell_type": "code",
      "metadata": {
        "id": "GjdiTB1o2lHb",
        "colab_type": "code",
        "colab": {}
      },
      "source": [
        "b = AgentRPS()\n",
        "a = AgentRPS()"
      ],
      "execution_count": 0,
      "outputs": []
    },
    {
      "cell_type": "code",
      "metadata": {
        "id": "RJCLWjlf2t0B",
        "colab_type": "code",
        "colab": {}
      },
      "source": [
        "strategy1,strategy2 = train(b,a,100000)"
      ],
      "execution_count": 0,
      "outputs": []
    },
    {
      "cell_type": "markdown",
      "metadata": {
        "id": "6koCISG9KHhn",
        "colab_type": "text"
      },
      "source": [
        "Final Strategies"
      ]
    },
    {
      "cell_type": "code",
      "metadata": {
        "id": "5igU1l3U21lj",
        "colab_type": "code",
        "outputId": "ac3ecd85-a3dd-4d7b-b943-94fc16b38e3f",
        "colab": {
          "base_uri": "https://localhost:8080/",
          "height": 35
        }
      },
      "source": [
        "print(a.getAverageStrategy())"
      ],
      "execution_count": 123,
      "outputs": [
        {
          "output_type": "stream",
          "text": [
            "[0.33377191 0.33393339 0.3322947 ]\n"
          ],
          "name": "stdout"
        }
      ]
    },
    {
      "cell_type": "code",
      "metadata": {
        "id": "6H1ozGZHBZhR",
        "colab_type": "code",
        "outputId": "03fbbffb-6b27-43df-d1de-0bc8f7572dec",
        "colab": {
          "base_uri": "https://localhost:8080/",
          "height": 35
        }
      },
      "source": [
        "print(b.getAverageStrategy())"
      ],
      "execution_count": 124,
      "outputs": [
        {
          "output_type": "stream",
          "text": [
            "[0.33300916 0.33396565 0.33302518]\n"
          ],
          "name": "stdout"
        }
      ]
    },
    {
      "cell_type": "markdown",
      "metadata": {
        "id": "GccTEBC2KREE",
        "colab_type": "text"
      },
      "source": [
        "Plots of Strategies Vs Training Iterations"
      ]
    },
    {
      "cell_type": "code",
      "metadata": {
        "id": "XnF0F-Z9Bb9D",
        "colab_type": "code",
        "outputId": "0132014f-b857-4eb8-b654-7c37631ecf60",
        "colab": {
          "base_uri": "https://localhost:8080/",
          "height": 287
        }
      },
      "source": [
        "plot(strategy1[:20000,0])\n",
        "plot(strategy1[:20000,1])\n",
        "plot(strategy1[:20000,2])"
      ],
      "execution_count": 125,
      "outputs": [
        {
          "output_type": "execute_result",
          "data": {
            "text/plain": [
              "[<matplotlib.lines.Line2D at 0x7f7e78708f60>]"
            ]
          },
          "metadata": {
            "tags": []
          },
          "execution_count": 125
        },
        {
          "output_type": "display_data",
          "data": {
            "image/png": "[encoded data removed]",
            "text/plain": [
              "<Figure size 432x288 with 1 Axes>"
            ]
          },
          "metadata": {
            "tags": []
          }
        }
      ]
    },
    {
      "cell_type": "code",
      "metadata": {
        "id": "X7x-5oZcJqok",
        "colab_type": "code",
        "colab": {
          "base_uri": "https://localhost:8080/",
          "height": 287
        },
        "outputId": "649ffa8a-9763-453b-cc02-533172287364"
      },
      "source": [
        "plot(strategy2[:20000,0])\n",
        "plot(strategy2[:20000,1])\n",
        "plot(strategy2[:20000,2])"
      ],
      "execution_count": 122,
      "outputs": [
        {
          "output_type": "execute_result",
          "data": {
            "text/plain": [
              "[<matplotlib.lines.Line2D at 0x7f7e787a5080>]"
            ]
          },
          "metadata": {
            "tags": []
          },
          "execution_count": 122
        },
        {
          "output_type": "display_data",
          "data": {
            "image/png": "[encoded data removed]",
            "text/plain": [
              "<Figure size 432x288 with 1 Axes>"
            ]
          },
          "metadata": {
            "tags": []
          }
        }
      ]
    },
    {
      "cell_type": "code",
      "metadata": {
        "id": "vAXGBDi8Jon8",
        "colab_type": "code",
        "colab": {}
      },
      "source": [
        ""
      ],
      "execution_count": 0,
      "outputs": []
    }
  ]
}