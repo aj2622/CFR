{
  "nbformat": 4,
  "nbformat_minor": 0,
  "metadata": {
    "colab": {
      "name": "KhunPoker.ipynb",
      "provenance": [],
      "collapsed_sections": [],
      "include_colab_link": true
    },
    "kernelspec": {
      "name": "python3",
      "display_name": "Python 3"
    }
  },
  "cells": [
    {
      "cell_type": "markdown",
      "metadata": {
        "id": "view-in-github",
        "colab_type": "text"
      },
      "source": [
        "<a href=\"https://colab.research.google.com/github/aj2622/reinforcement-learning/blob/master/KhunPoker.ipynb\" target=\"_parent\"><img src=\"https://colab.research.google.com/assets/colab-badge.svg\" alt=\"Open In Colab\"/></a>"
      ]
    },
    {
      "cell_type": "code",
      "metadata": {
        "id": "yFhu_UpmwIt0",
        "colab_type": "code",
        "colab": {}
      },
      "source": [
        "import numpy as np\n",
        "import random "
      ],
      "execution_count": 0,
      "outputs": []
    },
    {
      "cell_type": "markdown",
      "metadata": {
        "id": "xq82WTtWte5L",
        "colab_type": "text"
      },
      "source": [
        "< Khun Poker Definintions >"
      ]
    },
    {
      "cell_type": "code",
      "metadata": {
        "id": "34mySx2msmhg",
        "colab_type": "code",
        "colab": {}
      },
      "source": [
        "PASS = 0\n",
        "BET = 1\n",
        "NUM_ACTIONS = 2"
      ],
      "execution_count": 0,
      "outputs": []
    },
    {
      "cell_type": "markdown",
      "metadata": {
        "id": "mOTgDYP_wSiJ",
        "colab_type": "text"
      },
      "source": [
        "< Information set node class definition >"
      ]
    },
    {
      "cell_type": "code",
      "metadata": {
        "id": "D-klhphvttvN",
        "colab_type": "code",
        "colab": {}
      },
      "source": [
        "class Node:\n",
        "  def __init__(self,infoSet):\n",
        "    self.num_actions = 2\n",
        "    self.strategy = np.zeros(self.num_actions)\n",
        "    self.regretSum = np.zeros(self.num_actions)\n",
        "    self.strategySum = np.zeros(self.num_actions)\n",
        "    self.infoSet = infoSet\n",
        "    \n",
        "  def getStrategy(self,realizationWeight):\n",
        "    normalizingSum = 0\n",
        "    self.strategy = np.maximum(self.regretSum,0)\n",
        "    normalizingSum = np.sum(self.strategy)\n",
        "    if normalizingSum > 0:\n",
        "      self.strategy /= normalizingSum\n",
        "    else:\n",
        "      self.strategy = np.array([1/self.num_actions for i in range(self.num_actions)])\n",
        "    self.strategySum += self.strategy * realizationWeight\n",
        "    return self.strategy\n",
        "  \n",
        "  def getAverageStrategy(self):\n",
        "    avgStrategy = np.zeros(self.num_actions)\n",
        "    normalizingSum = 0\n",
        "    normalizingSum = np.sum(self.strategySum)\n",
        "    if normalizingSum > 0:\n",
        "      avgStrategy = self.strategySum / normalizingSum\n",
        "    else:\n",
        "      avgStrategy = [1/self.num_actions for i in range(self.num_actions)]\n",
        "    return avgStrategy"
      ],
      "execution_count": 0,
      "outputs": []
    },
    {
      "cell_type": "markdown",
      "metadata": {
        "id": "YvTlTmUY8xvQ",
        "colab_type": "text"
      },
      "source": [
        "< Counterfactual Regret Minimization Iteration >"
      ]
    },
    {
      "cell_type": "code",
      "metadata": {
        "id": "WwLD82MXgeG-",
        "colab_type": "code",
        "colab": {}
      },
      "source": [
        "def cfr(cards, history, p0, p1):\n",
        "  global infoSetDic, NUM_ACTIONS\n",
        "  plays = len(history)\n",
        "  player = plays % 2\n",
        "  opponent = 1 - player\n",
        "  \n",
        "  #  <return payoff for terminal satate>\n",
        "  if plays > 1:\n",
        "    terminalPass = history[plays - 1] == 'p'\n",
        "    doubleBet = history[plays-2:plays] == 'bb' \n",
        "    isPlayerHigherCard = cards[player] > cards[opponent]\n",
        "    if terminalPass:\n",
        "      if history == 'pp':\n",
        "        if isPlayerHigherCard:\n",
        "          return 1\n",
        "        else:\n",
        "          return -1\n",
        "      else:\n",
        "        return 1\n",
        "    elif doubleBet:\n",
        "      if isPlayerHigherCard:\n",
        "        return 2\n",
        "      else:\n",
        "        return -2\n",
        "      \n",
        "  infoSet = str(cards[player]) + history\n",
        "  if infoSet in infoSetDic:\n",
        "    node = infoSetDic[infoSet]\n",
        "  else:\n",
        "    infoSetDic[infoSet] = Node(infoSet)\n",
        "    node = infoSetDic[infoSet]\n",
        "  \n",
        "  if player == 0:\n",
        "    realizationWeight = p0\n",
        "  else:\n",
        "    realizationWeight = p1\n",
        "  \n",
        "  strategy = node.getStrategy(realizationWeight)\n",
        "  util = np.zeros(NUM_ACTIONS)\n",
        "  nodeUtil = 0\n",
        "  for a in range(NUM_ACTIONS):\n",
        "    if a == 0:\n",
        "      nextHistory = history + 'p'\n",
        "    else:\n",
        "      nextHistory = history + 'b'\n",
        "    if player == 0:\n",
        "      util[a] = -cfr(cards, nextHistory, p0*strategy[a], p1)\n",
        "    else:\n",
        "      util[a] = -cfr(cards, nextHistory, p0, p1*strategy[a])\n",
        "    nodeUtil += strategy[a] * util[a]\n",
        "    \n",
        "  for a in range(NUM_ACTIONS):\n",
        "    regret = util[a] - nodeUtil\n",
        "    if player == 0:  \n",
        "      node.regretSum[a] += p1 * regret\n",
        "    else:\n",
        "      node.regretSum[a] += p0 * regret\n",
        "      \n",
        "  return nodeUtil"
      ],
      "execution_count": 0,
      "outputs": []
    },
    {
      "cell_type": "markdown",
      "metadata": {
        "id": "qhuZyYT09BKL",
        "colab_type": "text"
      },
      "source": [
        "< Train Khun Poker >"
      ]
    },
    {
      "cell_type": "code",
      "metadata": {
        "id": "M1KxDLxSpWBk",
        "colab_type": "code",
        "colab": {}
      },
      "source": [
        "def train(iterations):\n",
        "  cards = [1,2,3]\n",
        "  util = 0\n",
        "  for i in range(iterations):\n",
        "    random.shuffle(cards)\n",
        "    util += cfr(cards,'',1,1)\n",
        "  print(\"Avrage game value is {}\".format(str(util/iterations)))\n",
        "  for i in infoSetDic:  \n",
        "    print('{}: {}'.format(infoSetDic[i].infoSet,infoSetDic[i].getAverageStrategy()))"
      ],
      "execution_count": 0,
      "outputs": []
    },
    {
      "cell_type": "code",
      "metadata": {
        "id": "3OvkN__QjlFP",
        "colab_type": "code",
        "outputId": "5c0d417c-5644-40a8-9b1a-d165896a7f4e",
        "colab": {
          "base_uri": "https://localhost:8080/",
          "height": 257
        }
      },
      "source": [
        "infoSetDic = {}\n",
        "train(1000000)"
      ],
      "execution_count": 0,
      "outputs": [
        {
          "output_type": "stream",
          "text": [
            "Avrage game value is -0.05527093672666206\n",
            "2: [9.99994384e-01 5.61614334e-06]\n",
            "3p: [1.50191193e-06 9.99998498e-01]\n",
            "2pb: [0.42329679 0.57670321]\n",
            "3b: [1.50191193e-06 9.99998498e-01]\n",
            "3: [0.27676106 0.72323894]\n",
            "1p: [0.67028535 0.32971465]\n",
            "3pb: [2.71534677e-06 9.99997285e-01]\n",
            "1b: [9.99998503e-01 1.49656688e-06]\n",
            "1: [0.75918339 0.24081661]\n",
            "1pb: [9.99999013e-01 9.87486876e-07]\n",
            "2p: [9.99998498e-01 1.50153307e-06]\n",
            "2b: [0.66566226 0.33433774]\n"
          ],
          "name": "stdout"
        }
      ]
    }
  ]
}